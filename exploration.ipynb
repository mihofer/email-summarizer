{
 "cells": [
  {
   "cell_type": "code",
   "execution_count": null,
   "metadata": {},
   "outputs": [],
   "source": [
    "import ollama\n",
    "import pandas as pd\n",
    "from pathlib import Path\n",
    "import email\n",
    "\n",
    "WORKING_DIRECTORY = Path().cwd()\n",
    "MODEL = 'llama3.2:1b'\n",
    "ollama.pull(MODEL)"
   ]
  },
  {
   "cell_type": "code",
   "execution_count": null,
   "metadata": {},
   "outputs": [],
   "source": [
    "# obtain enron dataset and extract to enron_data folder\n",
    "!wget -nc https://www.cs.cmu.edu/~./enron/enron_mail_20150507.tar.gz\n",
    "!mkdir enron_data\n",
    "!tar -xzf enron_mail_20150507.tar.gz -C enron_data"
   ]
  },
  {
   "cell_type": "code",
   "execution_count": null,
   "metadata": {},
   "outputs": [],
   "source": [
    "def parse_file(path:Path):\n",
    "\n",
    "    try:\n",
    "        message = email.message_from_file(open(path, 'r')).get_payload().replace('\\n', ' ').replace('\\t', ' ')\n",
    "    except:\n",
    "        message=None\n",
    "    idx = [i+1 for i,x in enumerate(path.parts) if x=='maildir' ][0]\n",
    "    return {\n",
    "        'path':str(path),\n",
    "        'owner':path.parts[idx],\n",
    "        'message':message\n",
    "    }\n",
    "\n",
    "\n",
    "test_path = WORKING_DIRECTORY/'enron_data'/'maildir'/'ring-a'/'inbox'/'1.'\n",
    "print(parse_file(test_path))\n"
   ]
  },
  {
   "cell_type": "code",
   "execution_count": null,
   "metadata": {},
   "outputs": [],
   "source": [
    "\n",
    "email_paths=(WORKING_DIRECTORY/'enron_data'/'maildir').rglob('*[.]')\n"
   ]
  },
  {
   "cell_type": "code",
   "execution_count": null,
   "metadata": {},
   "outputs": [],
   "source": [
    "parsed_emails = list(map(parse_file, email_paths))\n",
    "parsed_emails[:5]"
   ]
  },
  {
   "cell_type": "code",
   "execution_count": null,
   "metadata": {},
   "outputs": [],
   "source": [
    "data_df = pd.DataFrame(data=parsed_emails, columns=['path', 'owner', 'message'])\n",
    "data_df"
   ]
  },
  {
   "cell_type": "code",
   "execution_count": null,
   "metadata": {},
   "outputs": [],
   "source": [
    "print(data_df['message'].isnull().sum())\n",
    "data_df.dropna(inplace=True)\n",
    "print(data_df['message'].isnull().sum())"
   ]
  },
  {
   "cell_type": "code",
   "execution_count": null,
   "metadata": {},
   "outputs": [],
   "source": [
    "def tag_ollama(message):\n",
    "\n",
    "    response = ollama.generate(model=MODEL, prompt=f\"\"\"\n",
    "    You are a bot summarizing an email into one tag. \n",
    "    This is the message: {message}\n",
    "    Reply with one tag.\n",
    "\"\"\"\n",
    ")\n",
    "\n",
    "    return response['response']"
   ]
  },
  {
   "cell_type": "code",
   "execution_count": null,
   "metadata": {},
   "outputs": [],
   "source": [
    "message = data_df.sample()['message'].values[0]\n",
    "response = tag_ollama(message)"
   ]
  },
  {
   "cell_type": "code",
   "execution_count": null,
   "metadata": {},
   "outputs": [],
   "source": [
    "print(message)\n",
    "print(response)"
   ]
  },
  {
   "cell_type": "code",
   "execution_count": null,
   "metadata": {},
   "outputs": [],
   "source": [
    "data_df['tag'] = data_df['message'].apply(tag_ollama)"
   ]
  },
  {
   "cell_type": "code",
   "execution_count": null,
   "metadata": {},
   "outputs": [],
   "source": []
  }
 ],
 "metadata": {
  "kernelspec": {
   "display_name": "mlpython",
   "language": "python",
   "name": "python3"
  },
  "language_info": {
   "codemirror_mode": {
    "name": "ipython",
    "version": 3
   },
   "file_extension": ".py",
   "mimetype": "text/x-python",
   "name": "python",
   "nbconvert_exporter": "python",
   "pygments_lexer": "ipython3",
   "version": "3.12.7"
  }
 },
 "nbformat": 4,
 "nbformat_minor": 2
}
